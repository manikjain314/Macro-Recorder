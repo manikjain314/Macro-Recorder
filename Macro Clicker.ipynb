{
 "cells": [
  {
   "cell_type": "code",
   "execution_count": 1,
   "metadata": {},
   "outputs": [],
   "source": [
    "import pyautogui\n",
    "import win32api\n",
    "import time\n",
    "import keyboard"
   ]
  },
  {
   "cell_type": "code",
   "execution_count": 7,
   "metadata": {},
   "outputs": [],
   "source": [
    "config = open(\"config.txt\", \"r\")\n",
    "start_tracking = config.readline().split()[0].lower()\n",
    "stop_tracking = config.readline().split()[0].lower()\n",
    "play_macro = config.readline().split()[0].lower()"
   ]
  },
  {
   "cell_type": "code",
   "execution_count": null,
   "metadata": {},
   "outputs": [],
   "source": [
    "sequence = []\n",
    "state_left = win32api.GetKeyState(0x01)\n",
    "delay = time.process_time()\n",
    "\n",
    "while True:\n",
    "    if keyboard.is_pressed(start_tracking):\n",
    "        while not keyboard.is_pressed(stop_tracking):\n",
    "            current_state = win32api.GetKeyState(0x01)\n",
    "            if current_state != state_left:\n",
    "                state_left = current_state\n",
    "                \n",
    "                new_delay = time.process_time()\n",
    "                sequence.append(new_delay-delay)\n",
    "                \n",
    "                position = pyautogui.position()\n",
    "                begin = time.process_time()\n",
    "                while win32api.GetKeyState(0x01) < 0:\n",
    "                    pass\n",
    "                end = time.process_time()\n",
    "                sequence.append((tuple(position), end-begin))\n",
    "                \n",
    "                state_left = win32api.GetKeyState(0x01)\n",
    "                delay = time.process_time()\n",
    "                \n",
    "        break"
   ]
  },
  {
   "cell_type": "code",
   "execution_count": null,
   "metadata": {},
   "outputs": [],
   "source": [
    "while True:\n",
    "    if keyboard.is_pressed(play_macro):\n",
    "        while True:\n",
    "            for i in sequence:\n",
    "                if type(i) == tuple:\n",
    "                    position = i[0]\n",
    "                    begin = time.time()\n",
    "                    pyautogui.mouseDown(position)\n",
    "\n",
    "                    while time.time() - begin < i[1]:\n",
    "                        pass\n",
    "\n",
    "                    pyautogui.mouseUp(position)\n",
    "                else:\n",
    "                    time.sleep(i)"
   ]
  }
 ],
 "metadata": {
  "kernelspec": {
   "display_name": "Python 3",
   "language": "python",
   "name": "python3"
  },
  "language_info": {
   "codemirror_mode": {
    "name": "ipython",
    "version": 3
   },
   "file_extension": ".py",
   "mimetype": "text/x-python",
   "name": "python",
   "nbconvert_exporter": "python",
   "pygments_lexer": "ipython3",
   "version": "3.7.4"
  }
 },
 "nbformat": 4,
 "nbformat_minor": 2
}
